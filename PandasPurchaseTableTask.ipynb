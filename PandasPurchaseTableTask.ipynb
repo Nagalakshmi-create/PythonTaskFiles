{
 "cells": [
  {
   "cell_type": "markdown",
   "id": "b93ef167",
   "metadata": {},
   "source": [
    "Player Count\n",
    "->Total Number of Players\n",
    "\n",
    "Purchasing Analysis (Total)\n",
    "->Number of Unique Items\n",
    "->Average Purchase Price\n",
    "->Total Number of Purchases\n",
    "->Total Revenue\n",
    "\n",
    "Gender Demographics\n",
    "->Percentage and Count of Male Players\n",
    "->Percentage and Count of Female Players\n",
    "->Percentage and Count of Other / Non-Disclosed\n",
    "\n",
    "Purchasing Analysis (Gender)\n",
    "The below each broken by gender\n",
    "->Purchase Count\n",
    "->Average Purchase Price\n",
    "->Total Purchase Value\n",
    "->Average Purchase Total per Person by Gender\n"
   ]
  },
  {
   "cell_type": "code",
   "execution_count": 33,
   "id": "71735985",
   "metadata": {},
   "outputs": [],
   "source": [
    "import pandas as pd"
   ]
  },
  {
   "cell_type": "code",
   "execution_count": 34,
   "id": "445484bf",
   "metadata": {},
   "outputs": [
    {
     "data": {
      "text/html": [
       "<div>\n",
       "<style scoped>\n",
       "    .dataframe tbody tr th:only-of-type {\n",
       "        vertical-align: middle;\n",
       "    }\n",
       "\n",
       "    .dataframe tbody tr th {\n",
       "        vertical-align: top;\n",
       "    }\n",
       "\n",
       "    .dataframe thead th {\n",
       "        text-align: right;\n",
       "    }\n",
       "</style>\n",
       "<table border=\"1\" class=\"dataframe\">\n",
       "  <thead>\n",
       "    <tr style=\"text-align: right;\">\n",
       "      <th></th>\n",
       "      <th>Purchase ID</th>\n",
       "      <th>SN</th>\n",
       "      <th>Age</th>\n",
       "      <th>Gender</th>\n",
       "      <th>Item ID</th>\n",
       "      <th>Item Name</th>\n",
       "      <th>Price</th>\n",
       "    </tr>\n",
       "  </thead>\n",
       "  <tbody>\n",
       "    <tr>\n",
       "      <th>0</th>\n",
       "      <td>0</td>\n",
       "      <td>Lisim78</td>\n",
       "      <td>20</td>\n",
       "      <td>Male</td>\n",
       "      <td>108</td>\n",
       "      <td>Extraction, Quickblade Of Trembling Hands</td>\n",
       "      <td>3.53</td>\n",
       "    </tr>\n",
       "    <tr>\n",
       "      <th>1</th>\n",
       "      <td>1</td>\n",
       "      <td>Lisovynya38</td>\n",
       "      <td>40</td>\n",
       "      <td>Male</td>\n",
       "      <td>143</td>\n",
       "      <td>Frenzied Scimitar</td>\n",
       "      <td>1.56</td>\n",
       "    </tr>\n",
       "    <tr>\n",
       "      <th>2</th>\n",
       "      <td>2</td>\n",
       "      <td>Ithergue48</td>\n",
       "      <td>24</td>\n",
       "      <td>Male</td>\n",
       "      <td>92</td>\n",
       "      <td>Final Critic</td>\n",
       "      <td>4.88</td>\n",
       "    </tr>\n",
       "    <tr>\n",
       "      <th>3</th>\n",
       "      <td>3</td>\n",
       "      <td>Chamassasya86</td>\n",
       "      <td>24</td>\n",
       "      <td>Male</td>\n",
       "      <td>100</td>\n",
       "      <td>Blindscythe</td>\n",
       "      <td>3.27</td>\n",
       "    </tr>\n",
       "    <tr>\n",
       "      <th>4</th>\n",
       "      <td>4</td>\n",
       "      <td>Iskosia90</td>\n",
       "      <td>23</td>\n",
       "      <td>Male</td>\n",
       "      <td>131</td>\n",
       "      <td>Fury</td>\n",
       "      <td>1.44</td>\n",
       "    </tr>\n",
       "    <tr>\n",
       "      <th>...</th>\n",
       "      <td>...</td>\n",
       "      <td>...</td>\n",
       "      <td>...</td>\n",
       "      <td>...</td>\n",
       "      <td>...</td>\n",
       "      <td>...</td>\n",
       "      <td>...</td>\n",
       "    </tr>\n",
       "    <tr>\n",
       "      <th>775</th>\n",
       "      <td>775</td>\n",
       "      <td>Aethedru70</td>\n",
       "      <td>21</td>\n",
       "      <td>Female</td>\n",
       "      <td>60</td>\n",
       "      <td>Wolf</td>\n",
       "      <td>3.54</td>\n",
       "    </tr>\n",
       "    <tr>\n",
       "      <th>776</th>\n",
       "      <td>776</td>\n",
       "      <td>Iral74</td>\n",
       "      <td>21</td>\n",
       "      <td>Male</td>\n",
       "      <td>164</td>\n",
       "      <td>Exiled Doomblade</td>\n",
       "      <td>1.63</td>\n",
       "    </tr>\n",
       "    <tr>\n",
       "      <th>777</th>\n",
       "      <td>777</td>\n",
       "      <td>Yathecal72</td>\n",
       "      <td>20</td>\n",
       "      <td>Male</td>\n",
       "      <td>67</td>\n",
       "      <td>Celeste, Incarnation of the Corrupted</td>\n",
       "      <td>3.46</td>\n",
       "    </tr>\n",
       "    <tr>\n",
       "      <th>778</th>\n",
       "      <td>778</td>\n",
       "      <td>Sisur91</td>\n",
       "      <td>7</td>\n",
       "      <td>Male</td>\n",
       "      <td>101</td>\n",
       "      <td>Final Critic</td>\n",
       "      <td>4.19</td>\n",
       "    </tr>\n",
       "    <tr>\n",
       "      <th>779</th>\n",
       "      <td>779</td>\n",
       "      <td>Ennrian78</td>\n",
       "      <td>24</td>\n",
       "      <td>Male</td>\n",
       "      <td>50</td>\n",
       "      <td>Dawn</td>\n",
       "      <td>4.60</td>\n",
       "    </tr>\n",
       "  </tbody>\n",
       "</table>\n",
       "<p>780 rows × 7 columns</p>\n",
       "</div>"
      ],
      "text/plain": [
       "     Purchase ID             SN  Age  Gender  Item ID  \\\n",
       "0              0        Lisim78   20    Male      108   \n",
       "1              1    Lisovynya38   40    Male      143   \n",
       "2              2     Ithergue48   24    Male       92   \n",
       "3              3  Chamassasya86   24    Male      100   \n",
       "4              4      Iskosia90   23    Male      131   \n",
       "..           ...            ...  ...     ...      ...   \n",
       "775          775     Aethedru70   21  Female       60   \n",
       "776          776         Iral74   21    Male      164   \n",
       "777          777     Yathecal72   20    Male       67   \n",
       "778          778        Sisur91    7    Male      101   \n",
       "779          779      Ennrian78   24    Male       50   \n",
       "\n",
       "                                     Item Name  Price  \n",
       "0    Extraction, Quickblade Of Trembling Hands   3.53  \n",
       "1                            Frenzied Scimitar   1.56  \n",
       "2                                 Final Critic   4.88  \n",
       "3                                  Blindscythe   3.27  \n",
       "4                                         Fury   1.44  \n",
       "..                                         ...    ...  \n",
       "775                                       Wolf   3.54  \n",
       "776                           Exiled Doomblade   1.63  \n",
       "777      Celeste, Incarnation of the Corrupted   3.46  \n",
       "778                               Final Critic   4.19  \n",
       "779                                       Dawn   4.60  \n",
       "\n",
       "[780 rows x 7 columns]"
      ]
     },
     "execution_count": 34,
     "metadata": {},
     "output_type": "execute_result"
    }
   ],
   "source": [
    "purchase_df = pd.read_csv(\"/home/neosoft/Desktop/Python/purchase_data.csv\")\n",
    "purchase_df"
   ]
  },
  {
   "cell_type": "markdown",
   "id": "2274632e",
   "metadata": {},
   "source": [
    "# Player Count"
   ]
  },
  {
   "cell_type": "code",
   "execution_count": 35,
   "id": "dbec1135",
   "metadata": {},
   "outputs": [
    {
     "name": "stdout",
     "output_type": "stream",
     "text": [
      "Total number of players : 576\n"
     ]
    }
   ],
   "source": [
    "players = purchase_df['SN'].unique()\n",
    "players_count = len(players)\n",
    "print(\"Total number of players :\" , players_count)"
   ]
  },
  {
   "cell_type": "markdown",
   "id": "e68e249a",
   "metadata": {},
   "source": [
    "# Purchasing Analysis (Total)"
   ]
  },
  {
   "cell_type": "markdown",
   "id": "9334ec4e",
   "metadata": {},
   "source": [
    "Number of Unique Items\n"
   ]
  },
  {
   "cell_type": "code",
   "execution_count": 36,
   "id": "121a1643",
   "metadata": {},
   "outputs": [
    {
     "name": "stdout",
     "output_type": "stream",
     "text": [
      "Total number of unique items :  183\n"
     ]
    }
   ],
   "source": [
    "unique_items = purchase_df['Item ID'].unique()\n",
    "unique_items_count = len(unique_items)\n",
    "print(\"Total number of unique items : \", unique_items_count)"
   ]
  },
  {
   "cell_type": "markdown",
   "id": "861bbd28",
   "metadata": {},
   "source": [
    "Average Purchase Price"
   ]
  },
  {
   "cell_type": "code",
   "execution_count": 37,
   "id": "9aa677c5",
   "metadata": {},
   "outputs": [
    {
     "name": "stdout",
     "output_type": "stream",
     "text": [
      "Avarage purchase price : 3.050987179487176\n"
     ]
    }
   ],
   "source": [
    "average_purchase_price = purchase_df['Price'].mean()\n",
    "print(\"Avarage purchase price :\", average_purchase_price)"
   ]
  },
  {
   "cell_type": "markdown",
   "id": "db87c820",
   "metadata": {},
   "source": [
    "Total Number of Purchases"
   ]
  },
  {
   "cell_type": "code",
   "execution_count": 38,
   "id": "f0fdf0bc",
   "metadata": {},
   "outputs": [
    {
     "name": "stdout",
     "output_type": "stream",
     "text": [
      "Total number of purchases :  780\n"
     ]
    }
   ],
   "source": [
    "total_purchases = purchase_df['Purchase ID'].unique()\n",
    "total_purchases_count = len(total_purchases)\n",
    "print(\"Total number of purchases : \", total_purchases_count)"
   ]
  },
  {
   "cell_type": "markdown",
   "id": "13c13453",
   "metadata": {},
   "source": [
    "Total Revenue"
   ]
  },
  {
   "cell_type": "code",
   "execution_count": 39,
   "id": "4267c6dc",
   "metadata": {},
   "outputs": [
    {
     "name": "stdout",
     "output_type": "stream",
     "text": [
      "Total revenue :  2379.77\n"
     ]
    }
   ],
   "source": [
    "total_revenue = purchase_df['Price'].sum()\n",
    "print(\"Total revenue : \", total_revenue)"
   ]
  },
  {
   "cell_type": "markdown",
   "id": "06eb9c78",
   "metadata": {},
   "source": [
    "# Gender Demographics"
   ]
  },
  {
   "cell_type": "markdown",
   "id": "32c9adeb",
   "metadata": {},
   "source": [
    "Percentage and Count of Male Players"
   ]
  },
  {
   "cell_type": "code",
   "execution_count": 69,
   "id": "85a1779d",
   "metadata": {},
   "outputs": [
    {
     "name": "stdout",
     "output_type": "stream",
     "text": [
      "Number of Male Players :  484 \n",
      "\n",
      "Percentage of Male players :  84.028%\n"
     ]
    }
   ],
   "source": [
    "#Number of Male Players\n",
    "male_players = purchase_df.loc[purchase_df[\"Gender\"] == \"Male\"]\n",
    "male_players_count = len(male_players['SN'].unique())\n",
    "print(\"Number of Male Players : \", male_players_count,\"\\n\")\n",
    "\n",
    "#Percentage of Male Players\n",
    "male_percent = \"{:.3f}%\".format(male_players_count / players_count * 100)\n",
    "print(\"Percentage of Male players : \", male_percent)"
   ]
  },
  {
   "cell_type": "markdown",
   "id": "4bf2f608",
   "metadata": {},
   "source": [
    "Percentage and Count of Female Players"
   ]
  },
  {
   "cell_type": "code",
   "execution_count": 54,
   "id": "440cc950",
   "metadata": {},
   "outputs": [
    {
     "name": "stdout",
     "output_type": "stream",
     "text": [
      "Number of Female Players :  81 \n",
      "\n",
      "Percentage of Female players :  14.06%\n"
     ]
    }
   ],
   "source": [
    "#Number of Female Players\n",
    "female_players = purchase_df.loc[purchase_df[\"Gender\"] == \"Female\"]\n",
    "female_players_count = len(female_players['SN'].unique())\n",
    "print(\"Number of Female Players : \", female_players_count, \"\\n\")\n",
    "\n",
    "#Percentage of Female Players\n",
    "female_percent = \"{:.2f}%\".format(female_players_count / players_count * 100)\n",
    "print(\"Percentage of Female players : \", female_percent)"
   ]
  },
  {
   "cell_type": "markdown",
   "id": "361df4f9",
   "metadata": {},
   "source": [
    "Percentage and Count of Other/Non-Disclosed"
   ]
  },
  {
   "cell_type": "code",
   "execution_count": 55,
   "id": "a2070a98",
   "metadata": {},
   "outputs": [
    {
     "name": "stdout",
     "output_type": "stream",
     "text": [
      "Number of Other/Non-Disclosed Players:  11\n",
      "Percentage of Other / Non-Disclosed players :  1.91%\n"
     ]
    }
   ],
   "source": [
    "#Number of Other/Non-Disclosed Players\n",
    "other_players = purchase_df.loc[purchase_df[\"Gender\"] == \"Other / Non-Disclosed\"]\n",
    "other_players_count = len(other_players[\"SN\"].unique())\n",
    "print(\"Number of Other/Non-Disclosed Players: \", other_players_count)\n",
    "\n",
    "#Percentage of Other/Non-Disclosed Players\n",
    "other_players_percent = \"{:.2f}%\".format(other_players_count / players_count * 100)\n",
    "print(\"Percentage of Other / Non-Disclosed players : \", other_players_percent)"
   ]
  },
  {
   "cell_type": "markdown",
   "id": "ceccfd90",
   "metadata": {},
   "source": [
    "# Purchasing Analysis (Gender)"
   ]
  },
  {
   "cell_type": "markdown",
   "id": "4c2a3c71",
   "metadata": {},
   "source": [
    "The below each broken by gender"
   ]
  },
  {
   "cell_type": "markdown",
   "id": "f99bf92b",
   "metadata": {},
   "source": [
    "Purchase Count"
   ]
  },
  {
   "cell_type": "code",
   "execution_count": 58,
   "id": "d5ea6c13",
   "metadata": {},
   "outputs": [
    {
     "name": "stdout",
     "output_type": "stream",
     "text": [
      "Purchase Count of Male Players:  652 \n",
      "\n",
      "Purchase Count of Female Players:  113 \n",
      "\n",
      "Purchase Count of Other/Non-Disclosed  Players:  15 \n",
      "\n"
     ]
    }
   ],
   "source": [
    "#Purchase Count of Male Players\n",
    "male_purchase = purchase_df.loc[purchase_df[\"Gender\"] == \"Male\"]\n",
    "#male_purchase_count = male_purchase.shape[0]\n",
    "male_purchase_count = len(male_purchase[\"Purchase ID\"].unique())\n",
    "print(\"Purchase Count of Male Players: \", male_purchase_count, \"\\n\")\n",
    "\n",
    "#Purchase Count of Female Players\n",
    "female_purchase = purchase_df.loc[purchase_df[\"Gender\"] == \"Female\"]\n",
    "female_purchase_count = female_purchase.shape[0]\n",
    "print(\"Purchase Count of Female Players: \", female_purchase_count, \"\\n\")\n",
    "\n",
    "#Purchase Count of Other/Non-Disclosed Players\n",
    "other_players_purchase = purchase_df.loc[purchase_df[\"Gender\"] == \"Other / Non-Disclosed\"]\n",
    "other_players_purchase_count = other_players_purchase.shape[0]\n",
    "print(\"Purchase Count of Other/Non-Disclosed  Players: \", other_players_purchase_count, \"\\n\")"
   ]
  },
  {
   "cell_type": "markdown",
   "id": "c7c44d5c",
   "metadata": {},
   "source": [
    "Average Purchase Price"
   ]
  },
  {
   "cell_type": "code",
   "execution_count": 63,
   "id": "ad22fe29",
   "metadata": {},
   "outputs": [
    {
     "name": "stdout",
     "output_type": "stream",
     "text": [
      "Average Purchase Price of Male Players:  3.018 \n",
      "\n",
      "Average Purchase Price of Female Players:  3.203 \n",
      "\n",
      "Average Purchase Price of Other/Non-Disclosed Players:  3.346 \n",
      "\n"
     ]
    }
   ],
   "source": [
    "#Average Purchase Price of Male Players\n",
    "avg_male_purchase_price = purchase_df.loc[purchase_df[\"Gender\"] == \"Male\", [\"Price\"]].mean()\n",
    "avg_male_purchase_price = avg_male_purchase_price[0]\n",
    "print(\"Average Purchase Price of Male Players: \", round(avg_male_purchase_price, 3), \"\\n\")\n",
    "\n",
    "#Average Purchase Price of Female Players\n",
    "avg_female_purchase_price = purchase_df.loc[purchase_df[\"Gender\"] == \"Female\", [\"Price\"]].mean()\n",
    "avg_female_purchase_price = avg_female_purchase_price[0]\n",
    "print(\"Average Purchase Price of Female Players: \", round(avg_female_purchase_price, 3), \"\\n\")\n",
    "\n",
    "#Average Purchase Price of Other/Non-Disclosed Players\n",
    "avg_other_purchase_price = purchase_df.loc[purchase_df[\"Gender\"] == \"Other / Non-Disclosed\", [\"Price\"]].mean()\n",
    "avg_other_purchase_price = avg_other_purchase_price[0]\n",
    "print(\"Average Purchase Price of Other/Non-Disclosed Players: \", round(avg_other_purchase_price, 3), \"\\n\")"
   ]
  },
  {
   "cell_type": "markdown",
   "id": "a8a32d05",
   "metadata": {},
   "source": [
    "Total Purchase Value"
   ]
  },
  {
   "cell_type": "code",
   "execution_count": 66,
   "id": "cfe718a2",
   "metadata": {},
   "outputs": [
    {
     "name": "stdout",
     "output_type": "stream",
     "text": [
      "Total Purchase Value of Male Players:  1967.64\n",
      "Total Purchase Value of Female Players:  361.94\n",
      "Total Purchase Value of Other/Non-Disclosed Players:  50.19\n"
     ]
    }
   ],
   "source": [
    "#Total Purchase Value of Male Players\n",
    "total_male_purchase_value = purchase_df.loc[purchase_df[\"Gender\"] == 'Male', [\"Price\"]].sum()\n",
    "total_male_purchase_val = total_male_purchase_value[0]\n",
    "print(\"Total Purchase Value of Male Players: \", round(total_male_purchase_val, 3))\n",
    "\n",
    "#Total Purchase Value of Female Players\n",
    "total_female_purchase_value = purchase_df.loc[purchase_df[\"Gender\"] == 'Female', [\"Price\"]].sum()\n",
    "total_female_purchase_val = total_female_purchase_value[0]\n",
    "print(\"Total Purchase Value of Female Players: \", round(total_female_purchase_val, 3))\n",
    "\n",
    "#Total Purchase Value of Other/Non-Disclosed Players\n",
    "total_other_purchase_value = purchase_df.loc[purchase_df[\"Gender\"] == 'Other / Non-Disclosed', [\"Price\"]].sum()\n",
    "total_other_purchase_val = total_other_purchase_value[0]\n",
    "print(\"Total Purchase Value of Other/Non-Disclosed Players: \", round(total_other_purchase_val, 3))"
   ]
  },
  {
   "cell_type": "markdown",
   "id": "616c88db",
   "metadata": {},
   "source": [
    "Average Purchase Total per Person by Gender"
   ]
  },
  {
   "cell_type": "code",
   "execution_count": 67,
   "id": "5331486f",
   "metadata": {},
   "outputs": [
    {
     "name": "stdout",
     "output_type": "stream",
     "text": [
      "Average Purchase Total per Male Player:   4.065371900826446\n",
      "Average Purchase Total per Female Player:   4.468395061728395\n",
      "Average Purchase Total per Other/Non-Disclosed Player:   4.5627272727272725\n"
     ]
    }
   ],
   "source": [
    "#Average Purchase Total per Person of Male Player\n",
    "avg_male_purchase_total_person = total_male_purchase_value[0] / male_players_count\n",
    "print(\"Average Purchase Total per Male Player:  \", avg_male_purchase_total_person)\n",
    "\n",
    "#Average Purchase Total per Person of Female Player\n",
    "avg_female_purchase_total_person = total_female_purchase_value[0] / female_players_count\n",
    "print(\"Average Purchase Total per Female Player:  \", avg_female_purchase_total_person)\n",
    "\n",
    "#Average Purchase Total per Person of Other/Non-Disclosed Player\n",
    "avg_other_purchase_total_person = total_other_purchase_value[0] / other_players_count\n",
    "print(\"Average Purchase Total per Other/Non-Disclosed Player:  \", avg_other_purchase_total_person)"
   ]
  },
  {
   "cell_type": "code",
   "execution_count": 68,
   "id": "e3f42de2",
   "metadata": {},
   "outputs": [
    {
     "data": {
      "text/html": [
       "<div>\n",
       "<style scoped>\n",
       "    .dataframe tbody tr th:only-of-type {\n",
       "        vertical-align: middle;\n",
       "    }\n",
       "\n",
       "    .dataframe tbody tr th {\n",
       "        vertical-align: top;\n",
       "    }\n",
       "\n",
       "    .dataframe thead th {\n",
       "        text-align: right;\n",
       "    }\n",
       "</style>\n",
       "<table border=\"1\" class=\"dataframe\">\n",
       "  <thead>\n",
       "    <tr style=\"text-align: right;\">\n",
       "      <th></th>\n",
       "      <th>Purchase Count</th>\n",
       "      <th>Average Purchase Price</th>\n",
       "      <th>Total Purchase Value</th>\n",
       "      <th>Average Total Purchase Per Person</th>\n",
       "    </tr>\n",
       "  </thead>\n",
       "  <tbody>\n",
       "    <tr>\n",
       "      <th>Male</th>\n",
       "      <td>652</td>\n",
       "      <td>3.017853</td>\n",
       "      <td>1967.64</td>\n",
       "      <td>$4.07</td>\n",
       "    </tr>\n",
       "    <tr>\n",
       "      <th>Female</th>\n",
       "      <td>113</td>\n",
       "      <td>3.203009</td>\n",
       "      <td>361.94</td>\n",
       "      <td>$4.47</td>\n",
       "    </tr>\n",
       "    <tr>\n",
       "      <th>Other / Non-Disclosed</th>\n",
       "      <td>15</td>\n",
       "      <td>3.346000</td>\n",
       "      <td>50.19</td>\n",
       "      <td>$4.56</td>\n",
       "    </tr>\n",
       "  </tbody>\n",
       "</table>\n",
       "</div>"
      ],
      "text/plain": [
       "                       Purchase Count  Average Purchase Price  \\\n",
       "Male                              652                3.017853   \n",
       "Female                            113                3.203009   \n",
       "Other / Non-Disclosed              15                3.346000   \n",
       "\n",
       "                       Total Purchase Value Average Total Purchase Per Person  \n",
       "Male                                1967.64                             $4.07  \n",
       "Female                               361.94                             $4.47  \n",
       "Other / Non-Disclosed                 50.19                             $4.56  "
      ]
     },
     "execution_count": 68,
     "metadata": {},
     "output_type": "execute_result"
    }
   ],
   "source": [
    "#Create Summary Gender Purchase Analysis DataFrame\n",
    "gender_purchasing_analysis_table = pd.DataFrame([{\n",
    "    \"Gender\": \"Male\", \"Purchase Count\": male_purchase_count,\n",
    "    \"Average Purchase Price\": avg_male_purchase_price,\n",
    "    \"Total Purchase Value\": total_male_purchase_val,\n",
    "    \"Average Total Purchase Per Person\": \"${:.2f}\".format(avg_male_purchase_total_person)},\n",
    "    {\"Gender\": \"Female\", \"Purchase Count\": female_purchase_count,\n",
    "    \"Average Purchase Price\": avg_female_purchase_price,\n",
    "    \"Total Purchase Value\": total_female_purchase_val,\n",
    "    \"Average Total Purchase Per Person\": \"${:.2f}\".format(avg_female_purchase_total_person)},\n",
    "    {\"Gender\": \"Other / Non-Disclosed\", \"Purchase Count\": other_players_purchase_count,\n",
    "    \"Average Purchase Price\": avg_other_purchase_price,\n",
    "    \"Total Purchase Value\": total_other_purchase_val,\n",
    "    \"Average Total Purchase Per Person\": \"${:.2f}\".format(avg_other_purchase_total_person)\n",
    "}])\n",
    "\n",
    "gender_purchasing_analysis_table = gender_purchasing_analysis_table.set_index(\"Gender\")\n",
    "gender_purchasing_analysis_table.index.name = None\n",
    "gender_purchasing_analysis_table"
   ]
  }
 ],
 "metadata": {
  "kernelspec": {
   "display_name": "Python 3 (ipykernel)",
   "language": "python",
   "name": "python3"
  },
  "language_info": {
   "codemirror_mode": {
    "name": "ipython",
    "version": 3
   },
   "file_extension": ".py",
   "mimetype": "text/x-python",
   "name": "python",
   "nbconvert_exporter": "python",
   "pygments_lexer": "ipython3",
   "version": "3.9.7"
  }
 },
 "nbformat": 4,
 "nbformat_minor": 5
}
